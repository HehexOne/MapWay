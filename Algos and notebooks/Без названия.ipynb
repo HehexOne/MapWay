{
 "cells": [
  {
   "cell_type": "code",
   "execution_count": 10,
   "id": "c562a287",
   "metadata": {},
   "outputs": [
    {
     "name": "stdout",
     "output_type": "stream",
     "text": [
      "SELECT * FROM Place WHERE (12 >= 12 and (Place.longtitude <= 11 and (Place.longtitude >= 11 and Place.latitude <= 12 and Place.latitude >= 12)) or (12 < 12 and (Place.longtitude <= 11 and Place.longtitude >= 11 and Place.latitude <= 12 and Place.latitude >= 12)))  or (12 >= 12 and (Place.longtitude <= 11 and (Place.longtitude >= 11 and Place.latitude <= 12 and Place.latitude >= 12)) or (12 < 12 and (Place.longtitude <= 11 and Place.longtitude >= 11 and Place.latitude <= 12 and Place.latitude >= 12))) ;\n"
     ]
    }
   ],
   "source": [
    "class Position:\n",
    "\n",
    "    def __init__(self,\n",
    "                 latitude=None,\n",
    "                 longtitude=None,\n",
    "                 type_of_point=None):\n",
    "        self.latitude = latitude  # Широта\n",
    "        self.longtitude = longtitude  # Долгота\n",
    "\n",
    "\n",
    "class Place:\n",
    "    '''\n",
    "        ---------------------------------------------\n",
    "        |                                           |\n",
    "        |   Категории мест:                         |\n",
    "        |       Start_point: начальная точка        |\n",
    "        |           пути                            |\n",
    "        |       Middle_point: точки, которые        |\n",
    "        |           пользователь отметил между      |\n",
    "        |           начальной и конечной            |\n",
    "        |       End_point: конечная точка пути      |\n",
    "        |       Place_point: точка с местом         |\n",
    "        |                                           |\n",
    "        |                                           |\n",
    "        ---------------------------------------------\n",
    "    '''\n",
    "\n",
    "    def __init__(self,\n",
    "                 name=None,\n",
    "                 position: Position = None,\n",
    "                 category=None,\n",
    "                 rank=None,\n",
    "                 length=None,\n",
    "                 visit_time=None):\n",
    "        self.name = name\n",
    "        self.position = position\n",
    "        self.category = category\n",
    "        self.length = length\n",
    "        self.rank = rank\n",
    "        self.visit_time = visit_time\n",
    "\n",
    "points = [\n",
    "    Place(name='f1', position=Position(latitude=12, longtitude=11)),\n",
    "    Place(name='f2', position=Position(latitude=12, longtitude=11)),\n",
    "    Place(name='f3', position=Position(latitude=12, longtitude=11)),\n",
    "    Place(name='f3', position=Position(latitude=12, longtitude=11))\n",
    "\n",
    "\n",
    "]\n",
    "\n",
    "query = \"SELECT * FROM Place WHERE \"\n",
    "start_point, end_point = points[0], points[1]\n",
    "for i in range(1, len(points) - 1):\n",
    "\n",
    "    left_point, right_point = None, None\n",
    "    if start_point.position.longtitude <= end_point.position.longtitude:  #\n",
    "        left_point = start_point\n",
    "        right_point = end_point\n",
    "    else:  #\n",
    "        left_point = start_point\n",
    "        right_point = end_point\n",
    "\n",
    "    query += f'({left_point.position.latitude} >= {right_point.position.latitude} and (Place.longtitude <= {right_point.position.longtitude} and (Place.longtitude >= {left_point.position.longtitude} and Place.latitude <= {left_point.position.latitude} and Place.latitude >= {right_point.position.latitude})) or ({left_point.position.latitude} < {right_point.position.latitude} and (Place.longtitude <= {right_point.position.longtitude} and Place.longtitude >= {left_point.position.longtitude} and Place.latitude <= {right_point.position.latitude} and Place.latitude >= {left_point.position.latitude}))) '\n",
    "    if i != len(points) - 2:\n",
    "        query += ' or '\n",
    "    # перемещение точек\n",
    "    start_point = points[i]\n",
    "    end_point = points[i + 1]\n",
    "query += ';'\n",
    "print(query)"
   ]
  }
 ],
 "metadata": {
  "kernelspec": {
   "display_name": "Python 3",
   "language": "python",
   "name": "python3"
  },
  "language_info": {
   "codemirror_mode": {
    "name": "ipython",
    "version": 3
   },
   "file_extension": ".py",
   "mimetype": "text/x-python",
   "name": "python",
   "nbconvert_exporter": "python",
   "pygments_lexer": "ipython3",
   "version": "3.9.5"
  }
 },
 "nbformat": 4,
 "nbformat_minor": 5
}
