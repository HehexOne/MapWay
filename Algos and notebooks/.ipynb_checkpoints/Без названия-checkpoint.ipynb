{
 "cells": [
  {
   "cell_type": "code",
   "execution_count": 1,
   "id": "928e2f0c",
   "metadata": {},
   "outputs": [
    {
     "ename": "IndexError",
     "evalue": "list index out of range",
     "output_type": "error",
     "traceback": [
      "\u001b[0;31m---------------------------------------------------------------------------\u001b[0m",
      "\u001b[0;31mIndexError\u001b[0m                                Traceback (most recent call last)",
      "\u001b[0;32m<ipython-input-1-81ff8515e70c>\u001b[0m in \u001b[0;36m<module>\u001b[0;34m\u001b[0m\n\u001b[1;32m     45\u001b[0m \u001b[0;34m\u001b[0m\u001b[0m\n\u001b[1;32m     46\u001b[0m \u001b[0mquery\u001b[0m \u001b[0;34m=\u001b[0m \u001b[0;34m\"SELECT * FROM Place WHERE \"\u001b[0m\u001b[0;34m\u001b[0m\u001b[0;34m\u001b[0m\u001b[0m\n\u001b[0;32m---> 47\u001b[0;31m \u001b[0mstart_point\u001b[0m\u001b[0;34m,\u001b[0m \u001b[0mend_point\u001b[0m \u001b[0;34m=\u001b[0m \u001b[0mpoints\u001b[0m\u001b[0;34m[\u001b[0m\u001b[0;36m0\u001b[0m\u001b[0;34m]\u001b[0m\u001b[0;34m,\u001b[0m \u001b[0mpoints\u001b[0m\u001b[0;34m[\u001b[0m\u001b[0;36m1\u001b[0m\u001b[0;34m]\u001b[0m\u001b[0;34m\u001b[0m\u001b[0;34m\u001b[0m\u001b[0m\n\u001b[0m\u001b[1;32m     48\u001b[0m \u001b[0;32mfor\u001b[0m \u001b[0mi\u001b[0m \u001b[0;32min\u001b[0m \u001b[0mrange\u001b[0m\u001b[0;34m(\u001b[0m\u001b[0;36m1\u001b[0m\u001b[0;34m,\u001b[0m \u001b[0mlen\u001b[0m\u001b[0;34m(\u001b[0m\u001b[0mpoints\u001b[0m\u001b[0;34m)\u001b[0m \u001b[0;34m-\u001b[0m \u001b[0;36m1\u001b[0m\u001b[0;34m)\u001b[0m\u001b[0;34m:\u001b[0m\u001b[0;34m\u001b[0m\u001b[0;34m\u001b[0m\u001b[0m\n\u001b[1;32m     49\u001b[0m \u001b[0;34m\u001b[0m\u001b[0m\n",
      "\u001b[0;31mIndexError\u001b[0m: list index out of range"
     ]
    }
   ],
   "source": [
    "class Position:\n",
    "\n",
    "    def __init__(self,\n",
    "                 latitude=None,\n",
    "                 longtitude=None,\n",
    "                 type_of_point=None):\n",
    "        self.latitude = latitude  # Широта\n",
    "        self.longtitude = longtitude  # Долгота\n",
    "\n",
    "\n",
    "class Place:\n",
    "    '''\n",
    "        ---------------------------------------------\n",
    "        |                                           |\n",
    "        |   Категории мест:                         |\n",
    "        |       Start_point: начальная точка        |\n",
    "        |           пути                            |\n",
    "        |       Middle_point: точки, которые        |\n",
    "        |           пользователь отметил между      |\n",
    "        |           начальной и конечной            |\n",
    "        |       End_point: конечная точка пути      |\n",
    "        |       Place_point: точка с местом         |\n",
    "        |                                           |\n",
    "        |                                           |\n",
    "        ---------------------------------------------\n",
    "    '''\n",
    "\n",
    "    def __init__(self,\n",
    "                 name=None,\n",
    "                 position: Position = None,\n",
    "                 category=None,\n",
    "                 rank=None,\n",
    "                 length=None,\n",
    "                 visit_time=None):\n",
    "        self.name = name\n",
    "        self.position = position\n",
    "        self.category = category\n",
    "        self.length = length\n",
    "        self.rank = rank\n",
    "        self.visit_time = visit_time\n",
    "\n",
    "points = [\n",
    "    Place(name='f1', position=Position(latitude=12, longtitude=11)),\n",
    "    Place(name='f2', position=Position(latitude=12, longtitude=11))\n",
    "    Place(name='f3', position=Position(latitude=12, longtitude=11))\n",
    "    Place(name='f4', position=Position(latitude=12, longtitude=11))\n",
    "    Place(name='f5', position=Position(latitude=12, longtitude=11))\n",
    "    Place(name='f6', position=Position(latitude=12, longtitude=11))\n",
    "]\n",
    "\n",
    "query = \"SELECT * FROM Place WHERE \"\n",
    "start_point, end_point = points[0], points[1]\n",
    "for i in range(1, len(points) - 1):\n",
    "\n",
    "    left_point, right_point = None, None\n",
    "    if start_point.position.longtitude <= end_point.position.longtitude:  #\n",
    "        left_point = start_point\n",
    "        right_point = end_point\n",
    "    else:  #\n",
    "        left_point = start_point\n",
    "        right_point = end_point\n",
    "\n",
    "    query += f'({left_point.position.latitude} >= {right_point.position.latitude} and (Place.longtitude <= {right_point.position.longtitude} and (Place.longtitude >= {left_point.position.longtitude} and Place.latitude <= {left_point.position.latitude} and Place.latitude >= {right_point.position.latitude})) or ({left_point.position.latitude} < {right_point.position.latitude} and (Place.longtitude <= {right_point.position.longtitude} and Place.longtitude >= {left_point.position.longtitude} and Place.latitude <= {right_point.position.latitude} and Place.latitude >= {left_point.position.latitude}))) '\n",
    "    if i != len(points) - 2:\n",
    "        query += ' or '\n",
    "    # перемещение точек\n",
    "    start_point = points[i]\n",
    "    end_point = points[i + 1]"
   ]
  }
 ],
 "metadata": {
  "kernelspec": {
   "display_name": "Python 3",
   "language": "python",
   "name": "python3"
  },
  "language_info": {
   "codemirror_mode": {
    "name": "ipython",
    "version": 3
   },
   "file_extension": ".py",
   "mimetype": "text/x-python",
   "name": "python",
   "nbconvert_exporter": "python",
   "pygments_lexer": "ipython3",
   "version": "3.9.5"
  }
 },
 "nbformat": 4,
 "nbformat_minor": 5
}
